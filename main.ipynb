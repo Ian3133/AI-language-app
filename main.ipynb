{
 "cells": [
  {
   "cell_type": "code",
   "execution_count": 1,
   "metadata": {},
   "outputs": [
    {
     "name": "stdout",
     "output_type": "stream",
     "text": [
      "pygame 2.6.1 (SDL 2.28.4, Python 3.11.9)\n",
      "Hello from the pygame community. https://www.pygame.org/contribute.html\n"
     ]
    }
   ],
   "source": [
    "from funct import *"
   ]
  },
  {
   "cell_type": "code",
   "execution_count": 2,
   "metadata": {},
   "outputs": [],
   "source": [
    "import ollama\n",
    "\n",
    "client = ollama.Client()\n",
    "\n",
    "model=\"deepseek-r1:7b\"  # very small version of deekseek"
   ]
  },
  {
   "cell_type": "code",
   "execution_count": 3,
   "metadata": {},
   "outputs": [
    {
     "name": "stdout",
     "output_type": "stream",
     "text": [
      "\"Je mange et je mange.\"\n"
     ]
    }
   ],
   "source": [
    "\n",
    "def sentence_gen(word):\n",
    "    '''creates a simple example sentnece using the word provided as well as words from ones libary based on your fluceny level of them\n",
    "    - sort by word only above fluency level 3.    or something. \n",
    "    '''\n",
    "\n",
    "    # frist attempt is basic and will just return any sentence with word in it.\n",
    "    prompt = f\"Return nothing but a very basic sentence in french that uses this word: '{word}'\"\n",
    "\n",
    "    return (client.generate(model=model, prompt=prompt).response).split(\"</think>\")[1][2:]\n",
    "\n",
    "print(sentence_gen(\"et\"))"
   ]
  },
  {
   "cell_type": "code",
   "execution_count": null,
   "metadata": {},
   "outputs": [],
   "source": [
    "def give_me_a_word():\n",
    "    '''Will open up a window and will give the next practice word for you to learn or to review pygame pop up? -- should call from most and \n",
    "    using the gen sentece pornounce and more\n",
    "    '''\n",
    "\n",
    "    return 0\n",
    "\n",
    "\n",
    "def pick_next_word():\n",
    "    '''will use an algo to start picking next words ect..'''\n",
    "\n",
    "    return 0"
   ]
  },
  {
   "cell_type": "code",
   "execution_count": null,
   "metadata": {},
   "outputs": [
    {
     "name": "stdout",
     "output_type": "stream",
     "text": [
      " un\n"
     ]
    }
   ],
   "source": []
  },
  {
   "cell_type": "code",
   "execution_count": 6,
   "metadata": {},
   "outputs": [
    {
     "ename": "",
     "evalue": "",
     "output_type": "error",
     "traceback": [
      "\u001b[1;31mThe Kernel crashed while executing code in the current cell or a previous cell. \n",
      "\u001b[1;31mPlease review the code in the cell(s) to identify a possible cause of the failure. \n",
      "\u001b[1;31mClick <a href='https://aka.ms/vscodeJupyterKernelCrash'>here</a> for more info. \n",
      "\u001b[1;31mView Jupyter <a href='command:jupyter.viewOutput'>log</a> for further details."
     ]
    }
   ],
   "source": [
    "import pygame\n",
    "\n",
    "# Initialize Pygame\n",
    "pygame.init()\n",
    "\n",
    "# Set up display\n",
    "WIDTH, HEIGHT = 500, 400\n",
    "screen = pygame.display.set_mode((WIDTH, HEIGHT))\n",
    "pygame.display.set_caption(\"Pygame Lang-app V0.1\")\n",
    "\n",
    "# Colors\n",
    "WHITE = (255, 255, 255)\n",
    "GRAY = (200, 200, 200)\n",
    "DARK_GRAY = (150, 150, 150)\n",
    "BLUE = (0, 122, 204)\n",
    "BLACK = (0, 0, 0)\n",
    "\n",
    "# Font\n",
    "font = pygame.font.Font(None, 50)\n",
    "button_font = pygame.font.Font(None, 30)\n",
    "\n",
    "# Word list\n",
    "word_index = 0\n",
    "\n",
    "def get_current_word():\n",
    "    return words[word_index]\n",
    "\n",
    "# Button properties\n",
    "function_button_rect = pygame.Rect(50, 200, 120, 50)\n",
    "print_button_rect = pygame.Rect(50, 270, 120, 50)\n",
    "\n",
    "# Function output text\n",
    "\n",
    "function_output = \"\"\n",
    "\n",
    "def function_action():\n",
    "    global function_output\n",
    "    function_output = sentence_gen(words[word_index])\n",
    "\n",
    "def next_word():\n",
    "    global word_index\n",
    "    global function_output\n",
    "    word_index = (word_index + 1) % len(words)\n",
    "    function_output = \"\"\n",
    "\n",
    "\n",
    "# Main loop\n",
    "running = True\n",
    "while running:\n",
    "    screen.fill(WHITE)\n",
    "    \n",
    "    # Draw word background box\n",
    "    word_box_rect = pygame.Rect(100, 50, 300, 60)\n",
    "    pygame.draw.rect(screen, DARK_GRAY, word_box_rect, border_radius=10)\n",
    "    \n",
    "    # Draw the word in the center of the box\n",
    "    text_surface = font.render(get_current_word(), True, BLACK)\n",
    "    text_rect = text_surface.get_rect(center=word_box_rect.center)\n",
    "    screen.blit(text_surface, text_rect)\n",
    "    \n",
    "    # Draw buttons\n",
    "    pygame.draw.rect(screen, BLUE, function_button_rect)\n",
    "    pygame.draw.rect(screen, BLUE, print_button_rect)\n",
    "    \n",
    "    # Draw button labels\n",
    "    function_text = button_font.render(\"Definition\", True, WHITE)\n",
    "    print_text = button_font.render(\"Next\", True, WHITE)\n",
    "    screen.blit(function_text, function_button_rect.move(20, 15))\n",
    "    screen.blit(print_text, print_button_rect.move(35, 15))\n",
    "    \n",
    "    # Display function output\n",
    "    output_surface = button_font.render(function_output, True, BLACK)\n",
    "    screen.blit(output_surface, (180, 215))\n",
    "    \n",
    "    # Event handling\n",
    "    for event in pygame.event.get():\n",
    "        if event.type == pygame.QUIT:\n",
    "            running = False\n",
    "        elif event.type == pygame.MOUSEBUTTONDOWN:\n",
    "            if function_button_rect.collidepoint(event.pos):\n",
    "                function_action()\n",
    "            elif print_button_rect.collidepoint(event.pos):\n",
    "                next_word()\n",
    "    \n",
    "    pygame.display.flip()\n",
    "\n",
    "pygame.quit()"
   ]
  },
  {
   "cell_type": "code",
   "execution_count": null,
   "metadata": {},
   "outputs": [],
   "source": []
  }
 ],
 "metadata": {
  "kernelspec": {
   "display_name": "Python 3",
   "language": "python",
   "name": "python3"
  },
  "language_info": {
   "codemirror_mode": {
    "name": "ipython",
    "version": 3
   },
   "file_extension": ".py",
   "mimetype": "text/x-python",
   "name": "python",
   "nbconvert_exporter": "python",
   "pygments_lexer": "ipython3",
   "version": "3.11.9"
  }
 },
 "nbformat": 4,
 "nbformat_minor": 2
}
