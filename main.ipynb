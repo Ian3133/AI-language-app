{
 "cells": [
  {
   "cell_type": "code",
   "execution_count": 1,
   "metadata": {},
   "outputs": [
    {
     "name": "stdout",
     "output_type": "stream",
     "text": [
      "pygame 2.6.1 (SDL 2.28.4, Python 3.11.9)\n",
      "Hello from the pygame community. https://www.pygame.org/contribute.html\n"
     ]
    }
   ],
   "source": [
    "from funct import *"
   ]
  },
  {
   "cell_type": "code",
   "execution_count": null,
   "metadata": {},
   "outputs": [],
   "source": [
    "def sentence_gen():\n",
    "    '''creates a simple example sentnece using the word provided as well as words from ones libary based on your fluceny level of them\n",
    "    - sort by word only above fluency level 3.    or something. \n",
    "    '''\n",
    "    return 0\n",
    "\n",
    "\n",
    "\n",
    "def give_me_a_word():\n",
    "    '''Will open up a window and will give the next practice word for you to learn or to review pygame pop up? -- should call from most and \n",
    "    using the gen sentece pornounce and more\n",
    "    '''\n",
    "\n",
    "    return 0\n",
    "\n",
    "\n",
    "def pick_next_word():\n",
    "    '''will use an algo to start picking next words ect..'''\n",
    "\n",
    "    return 0"
   ]
  },
  {
   "cell_type": "code",
   "execution_count": 5,
   "metadata": {},
   "outputs": [
    {
     "name": "stdout",
     "output_type": "stream",
     "text": [
      "Next word displayed: Python\n",
      "Next word displayed: Code\n",
      "Next word displayed: Pygame\n",
      "Next word displayed: Button\n",
      "Next word displayed: Example\n",
      "Next word displayed: Python\n",
      "Next word displayed: Code\n",
      "Next word displayed: Pygame\n",
      "Next word displayed: Button\n",
      "Next word displayed: Example\n",
      "Next word displayed: Python\n",
      "Next word displayed: Code\n",
      "Next word displayed: Pygame\n",
      "Popup function triggered!\n",
      "Popup function triggered!\n",
      "Next word displayed: Button\n",
      "Next word displayed: Example\n",
      "Next word displayed: Python\n",
      "Next word displayed: Code\n",
      "Next word displayed: Pygame\n",
      "Next word displayed: Button\n"
     ]
    }
   ],
   "source": [
    "import pygame\n",
    "\n",
    "# Initialize Pygame\n",
    "pygame.init()\n",
    "\n",
    "# Set up display\n",
    "WIDTH, HEIGHT = 500, 400\n",
    "screen = pygame.display.set_mode((WIDTH, HEIGHT))\n",
    "pygame.display.set_caption(\"Word Display with Buttons\")\n",
    "\n",
    "# Colors\n",
    "WHITE = (255, 255, 255)\n",
    "BLUE = (0, 122, 204)\n",
    "DARK_BLUE = (0, 90, 150)\n",
    "BLACK = (0, 0, 0)\n",
    "\n",
    "# Font\n",
    "font = pygame.font.Font(None, 50)\n",
    "button_font = pygame.font.Font(None, 30)\n",
    "\n",
    "# Word list\n",
    "words = [\"Example\", \"Python\", \"Code\", \"Pygame\", \"Button\"]\n",
    "word_index = 0\n",
    "\n",
    "def get_current_word():\n",
    "    return words[word_index]\n",
    "\n",
    "# Button properties\n",
    "next_button_rect = pygame.Rect(125, 250, 100, 50)\n",
    "popup_button_rect = pygame.Rect(275, 250, 100, 50)\n",
    "\n",
    "def show_popup():\n",
    "    print(\"Popup function triggered!\")\n",
    "\n",
    "def next_word():\n",
    "    global word_index\n",
    "    word_index = (word_index + 1) % len(words)\n",
    "    print(f\"Next word displayed: {get_current_word()}\")\n",
    "\n",
    "# Main loop\n",
    "running = True\n",
    "while running:\n",
    "    screen.fill(WHITE)\n",
    "    \n",
    "    # Draw the word in the center\n",
    "    text_surface = font.render(get_current_word(), True, BLACK)\n",
    "    text_rect = text_surface.get_rect(center=(WIDTH//2, 100))\n",
    "    screen.blit(text_surface, text_rect)\n",
    "    \n",
    "    # Draw buttons\n",
    "    pygame.draw.rect(screen, BLUE, next_button_rect)\n",
    "    pygame.draw.rect(screen, BLUE, popup_button_rect)\n",
    "    \n",
    "    # Draw button labels\n",
    "    next_text = button_font.render(\"Next\", True, WHITE)\n",
    "    popup_text = button_font.render(\"Popup\", True, WHITE)\n",
    "    screen.blit(next_text, next_button_rect.move(25, 15))\n",
    "    screen.blit(popup_text, popup_button_rect.move(15, 15))\n",
    "    \n",
    "    # Event handling\n",
    "    for event in pygame.event.get():\n",
    "        if event.type == pygame.QUIT:\n",
    "            running = False\n",
    "        elif event.type == pygame.MOUSEBUTTONDOWN:\n",
    "            if next_button_rect.collidepoint(event.pos):\n",
    "                next_word()\n",
    "            elif popup_button_rect.collidepoint(event.pos):\n",
    "                show_popup()\n",
    "    \n",
    "    pygame.display.flip()\n",
    "\n",
    "pygame.quit()\n"
   ]
  }
 ],
 "metadata": {
  "kernelspec": {
   "display_name": "Python 3",
   "language": "python",
   "name": "python3"
  },
  "language_info": {
   "codemirror_mode": {
    "name": "ipython",
    "version": 3
   },
   "file_extension": ".py",
   "mimetype": "text/x-python",
   "name": "python",
   "nbconvert_exporter": "python",
   "pygments_lexer": "ipython3",
   "version": "3.11.9"
  }
 },
 "nbformat": 4,
 "nbformat_minor": 2
}
