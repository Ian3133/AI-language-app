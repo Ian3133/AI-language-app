{
 "cells": [
  {
   "cell_type": "code",
   "execution_count": 1,
   "metadata": {},
   "outputs": [
    {
     "name": "stdout",
     "output_type": "stream",
     "text": [
      "pygame 2.6.1 (SDL 2.28.4, Python 3.11.9)\n",
      "Hello from the pygame community. https://www.pygame.org/contribute.html\n"
     ]
    }
   ],
   "source": [
    "from funct import *"
   ]
  },
  {
   "cell_type": "code",
   "execution_count": null,
   "metadata": {},
   "outputs": [],
   "source": [
    "def sentence_gen():\n",
    "    '''creates a simple example sentnece using the word provided as well as words from ones libary based on your fluceny level of them\n",
    "    - sort by word only above fluency level 3.    or something. \n",
    "    '''\n",
    "    return 0\n",
    "\n",
    "\n",
    "\n",
    "def give_me_a_word():\n",
    "    '''Will open up a window and will give the next practice word for you to learn or to review pygame pop up? -- should call from most and \n",
    "    using the gen sentece pornounce and more\n",
    "    '''\n",
    "\n",
    "    return 0"
   ]
  }
 ],
 "metadata": {
  "kernelspec": {
   "display_name": "Python 3",
   "language": "python",
   "name": "python3"
  },
  "language_info": {
   "codemirror_mode": {
    "name": "ipython",
    "version": 3
   },
   "file_extension": ".py",
   "mimetype": "text/x-python",
   "name": "python",
   "nbconvert_exporter": "python",
   "pygments_lexer": "ipython3",
   "version": "3.11.9"
  }
 },
 "nbformat": 4,
 "nbformat_minor": 2
}
