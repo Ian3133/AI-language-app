{
 "cells": [
  {
   "cell_type": "code",
   "execution_count": 2,
   "metadata": {},
   "outputs": [],
   "source": [
    "# creating the DB\n",
    "\n",
    "import sqlite3\n",
    "\n",
    "# Connect to the database file in the same folder\n",
    "conn = sqlite3.connect('Word_DB.sqlite')\n",
    "cursor = conn.cursor()\n",
    "\n",
    "# Create Table (if you need)\n",
    "cursor.execute('''\n",
    "CREATE TABLE IF NOT EXISTS Words (\n",
    "    id INTEGER PRIMARY KEY,\n",
    "    word TEXT NOT NULL UNIQUE,\n",
    "    definition TEXT,\n",
    "    example TEXT,\n",
    "    fluency INTEGER DEFAULT 0,\n",
    "    visited INTEGER DEFAULT 0,  -- 0 = False, 1 = True\n",
    "    created_at TIMESTAMP DEFAULT CURRENT_TIMESTAMP\n",
    ");\n",
    "''')\n",
    "\n",
    "# example of output of french words AI could output: only 5\n",
    "list = '[une, il, le, la, et]'[1:-1].split(\",\")\n",
    "definition = \"place holder\"\n",
    "example = \"another place holder\"\n",
    "fluency = 0 \n",
    "visited = 1 \n",
    "\n",
    "\n",
    "def create_def():\n",
    "    return 0 \n",
    "\n",
    "def create_example():\n",
    "    return 0\n",
    "\n"
   ]
  },
  {
   "cell_type": "code",
   "execution_count": 3,
   "metadata": {},
   "outputs": [
    {
     "ename": "OperationalError",
     "evalue": "database is locked",
     "output_type": "error",
     "traceback": [
      "\u001b[1;31m---------------------------------------------------------------------------\u001b[0m",
      "\u001b[1;31mOperationalError\u001b[0m                          Traceback (most recent call last)",
      "Cell \u001b[1;32mIn[3], line 4\u001b[0m\n\u001b[0;32m      1\u001b[0m \u001b[38;5;66;03m# Insert Data\u001b[39;00m\n\u001b[0;32m      2\u001b[0m \u001b[38;5;28;01mfor\u001b[39;00m i \u001b[38;5;129;01min\u001b[39;00m \u001b[38;5;28mrange\u001b[39m(\u001b[38;5;28mlen\u001b[39m(\u001b[38;5;28mlist\u001b[39m)): \n\u001b[1;32m----> 4\u001b[0m     \u001b[43mcursor\u001b[49m\u001b[38;5;241;43m.\u001b[39;49m\u001b[43mexecute\u001b[49m\u001b[43m(\u001b[49m\u001b[38;5;124;43m'''\u001b[39;49m\n\u001b[0;32m      5\u001b[0m \u001b[38;5;124;43mINSERT INTO Words (word, definition, example, fluency, visited)\u001b[39;49m\n\u001b[0;32m      6\u001b[0m \u001b[38;5;124;43mVALUES (?, ?, ?, ?, ?)\u001b[39;49m\n\u001b[0;32m      7\u001b[0m \u001b[38;5;124;43m'''\u001b[39;49m\u001b[43m,\u001b[49m\u001b[43m \u001b[49m\u001b[43m(\u001b[49m\u001b[38;5;28;43mlist\u001b[39;49m\u001b[43m[\u001b[49m\u001b[43mi\u001b[49m\u001b[43m]\u001b[49m\u001b[43m,\u001b[49m\u001b[43m \u001b[49m\u001b[43mdefinition\u001b[49m\u001b[43m,\u001b[49m\u001b[43m \u001b[49m\u001b[43mexample\u001b[49m\u001b[43m,\u001b[49m\u001b[43m \u001b[49m\u001b[43mfluency\u001b[49m\u001b[43m,\u001b[49m\u001b[43m \u001b[49m\u001b[43mvisited\u001b[49m\u001b[43m)\u001b[49m\u001b[43m)\u001b[49m\n\u001b[0;32m      8\u001b[0m     conn\u001b[38;5;241m.\u001b[39mcommit()\n",
      "\u001b[1;31mOperationalError\u001b[0m: database is locked"
     ]
    }
   ],
   "source": [
    "# Insert Data\n",
    "for i in range(len(list)): \n",
    "\n",
    "    cursor.execute('''\n",
    "INSERT INTO Words (word, definition, example, fluency, visited)\n",
    "VALUES (?, ?, ?, ?, ?)\n",
    "''', (list[i], definition, example, fluency, visited))\n",
    "    conn.commit()"
   ]
  },
  {
   "cell_type": "code",
   "execution_count": 4,
   "metadata": {},
   "outputs": [
    {
     "name": "stdout",
     "output_type": "stream",
     "text": [
      "[(1, 'une', 'place holder', 'another place holder', 0, 1, '2025-03-05 19:23:20'), (2, ' il', 'place holder', 'another place holder', 0, 1, '2025-03-05 19:23:20'), (3, ' le', 'place holder', 'another place holder', 0, 1, '2025-03-05 19:23:20'), (4, ' la', 'place holder', 'another place holder', 0, 1, '2025-03-05 19:23:20'), (5, ' et', 'place holder', 'another place holder', 0, 1, '2025-03-05 19:23:20'), (6, '\\n', '--', '--', 0, 0, '2025-03-07 16:42:36')]\n"
     ]
    }
   ],
   "source": [
    "# Read Data\n",
    "cursor.execute('SELECT * FROM Words')\n",
    "rows = cursor.fetchall()\n",
    "print(rows)\n",
    "\n",
    "conn.close()"
   ]
  },
  {
   "cell_type": "code",
   "execution_count": 6,
   "metadata": {},
   "outputs": [
    {
     "name": "stdout",
     "output_type": "stream",
     "text": [
      "    id word    definition               example  fluency  visited  \\\n",
      "0    1  une  place holder  another place holder        0        1   \n",
      "1    2   il  place holder  another place holder        0        1   \n",
      "2    3   le  place holder  another place holder        0        1   \n",
      "3    4   la  place holder  another place holder        0        1   \n",
      "4    5   et  place holder  another place holder        0        1   \n",
      "5    6   \\n            --                    --        0        0   \n",
      "6    7    [            --                    --        0        0   \n",
      "7    8    l            --                    --        0        0   \n",
      "8    9    e            --                    --        0        0   \n",
      "9   10    ,            --                    --        0        0   \n",
      "10  11                 --                    --        0        0   \n",
      "11  12    a            --                    --        0        0   \n",
      "12  13    s            --                    --        0        0   \n",
      "13  14    u            --                    --        0        0   \n",
      "14  15    n            --                    --        0        0   \n",
      "15  16    c            --                    --        0        0   \n",
      "16  17    i            --                    --        0        0   \n",
      "17  18    q            --                    --        0        0   \n",
      "18  19    t            --                    --        0        0   \n",
      "19  20    r            --                    --        0        0   \n",
      "20  21    v            --                    --        0        0   \n",
      "21  22    g            --                    --        0        0   \n",
      "22  23    d            --                    --        0        0   \n",
      "23  24    x            --                    --        0        0   \n",
      "24  25    h            --                    --        0        0   \n",
      "25  26    p            --                    --        0        0   \n",
      "26  27    o            --                    --        0        0   \n",
      "27  28    z            --                    --        0        0   \n",
      "28  29    -            --                    --        0        0   \n",
      "29  30    f            --                    --        0        0   \n",
      "30  31    m            --                    --        0        0   \n",
      "31  32    ]            --                    --        0        0   \n",
      "\n",
      "             created_at  \n",
      "0   2025-03-05 19:23:20  \n",
      "1   2025-03-05 19:23:20  \n",
      "2   2025-03-05 19:23:20  \n",
      "3   2025-03-05 19:23:20  \n",
      "4   2025-03-05 19:23:20  \n",
      "5   2025-03-07 16:42:36  \n",
      "6   2025-03-07 16:54:04  \n",
      "7   2025-03-07 16:54:04  \n",
      "8   2025-03-07 16:54:04  \n",
      "9   2025-03-07 16:54:04  \n",
      "10  2025-03-07 16:54:04  \n",
      "11  2025-03-07 16:54:04  \n",
      "12  2025-03-07 16:54:04  \n",
      "13  2025-03-07 16:54:04  \n",
      "14  2025-03-07 16:54:04  \n",
      "15  2025-03-07 16:54:04  \n",
      "16  2025-03-07 16:54:04  \n",
      "17  2025-03-07 16:54:04  \n",
      "18  2025-03-07 16:54:04  \n",
      "19  2025-03-07 16:54:04  \n",
      "20  2025-03-07 16:54:04  \n",
      "21  2025-03-07 16:54:04  \n",
      "22  2025-03-07 16:54:04  \n",
      "23  2025-03-07 16:54:04  \n",
      "24  2025-03-07 16:54:04  \n",
      "25  2025-03-07 16:54:04  \n",
      "26  2025-03-07 16:54:04  \n",
      "27  2025-03-07 16:54:04  \n",
      "28  2025-03-07 16:54:04  \n",
      "29  2025-03-07 16:54:04  \n",
      "30  2025-03-07 16:54:04  \n",
      "31  2025-03-07 16:54:04  \n"
     ]
    }
   ],
   "source": [
    "import pandas as pd\n",
    "# Reconnect\n",
    "conn = sqlite3.connect('Word_DB.sqlite')\n",
    "\n",
    "# Read data into DataFrame\n",
    "df = pd.read_sql('SELECT * FROM words', conn)\n",
    "print(df)\n",
    "\n",
    "conn.close()\n"
   ]
  }
 ],
 "metadata": {
  "kernelspec": {
   "display_name": "Python 3",
   "language": "python",
   "name": "python3"
  },
  "language_info": {
   "codemirror_mode": {
    "name": "ipython",
    "version": 3
   },
   "file_extension": ".py",
   "mimetype": "text/x-python",
   "name": "python",
   "nbconvert_exporter": "python",
   "pygments_lexer": "ipython3",
   "version": "3.11.9"
  }
 },
 "nbformat": 4,
 "nbformat_minor": 2
}
