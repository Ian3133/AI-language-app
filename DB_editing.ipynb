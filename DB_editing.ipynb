{
 "cells": [
  {
   "cell_type": "code",
   "execution_count": 22,
   "metadata": {},
   "outputs": [],
   "source": [
    "import sqlite3\n",
    "\n",
    "# Connect to the database file in the same folder\n",
    "conn = sqlite3.connect('Word_DB.sqlite')\n",
    "cursor = conn.cursor()\n",
    "\n",
    "# Create Table (if you need)\n",
    "cursor.execute('''\n",
    "CREATE TABLE IF NOT EXISTS Words (\n",
    "    id INTEGER PRIMARY KEY,\n",
    "    word TEXT NOT NULL UNIQUE,\n",
    "    definition TEXT,\n",
    "    example TEXT,\n",
    "    fluency INTEGER DEFAULT 0,\n",
    "    visited INTEGER DEFAULT 0,  -- 0 = False, 1 = True\n",
    "    created_at TIMESTAMP DEFAULT CURRENT_TIMESTAMP\n",
    ");\n",
    "''')\n",
    "\n",
    "# example of output of french words AI could output: only 5\n",
    "list = '[une, il, le, la, et]'[1:-1].split(\",\")\n",
    "definition = \"place holder\"\n",
    "example = \"another place holder\"\n",
    "fluency = 0 \n",
    "visited = 1 \n",
    "\n",
    "\n",
    "def create_def():\n",
    "    return 0 \n",
    "\n",
    "def create_example():\n",
    "    return 0\n",
    "\n"
   ]
  },
  {
   "cell_type": "code",
   "execution_count": 24,
   "metadata": {},
   "outputs": [
    {
     "ename": "IntegrityError",
     "evalue": "UNIQUE constraint failed: Words.word",
     "output_type": "error",
     "traceback": [
      "\u001b[1;31m---------------------------------------------------------------------------\u001b[0m",
      "\u001b[1;31mIntegrityError\u001b[0m                            Traceback (most recent call last)",
      "Cell \u001b[1;32mIn[24], line 4\u001b[0m\n\u001b[0;32m      1\u001b[0m \u001b[38;5;66;03m# Insert Data\u001b[39;00m\n\u001b[0;32m      2\u001b[0m \u001b[38;5;28;01mfor\u001b[39;00m i \u001b[38;5;129;01min\u001b[39;00m \u001b[38;5;28mrange\u001b[39m(\u001b[38;5;28mlen\u001b[39m(\u001b[38;5;28mlist\u001b[39m)): \n\u001b[1;32m----> 4\u001b[0m     \u001b[43mcursor\u001b[49m\u001b[38;5;241;43m.\u001b[39;49m\u001b[43mexecute\u001b[49m\u001b[43m(\u001b[49m\u001b[38;5;124;43m'''\u001b[39;49m\n\u001b[0;32m      5\u001b[0m \u001b[38;5;124;43mINSERT INTO Words (word, definition, example, fluency, visited)\u001b[39;49m\n\u001b[0;32m      6\u001b[0m \u001b[38;5;124;43mVALUES (?, ?, ?, ?, ?)\u001b[39;49m\n\u001b[0;32m      7\u001b[0m \u001b[38;5;124;43m'''\u001b[39;49m\u001b[43m,\u001b[49m\u001b[43m \u001b[49m\u001b[43m(\u001b[49m\u001b[38;5;28;43mlist\u001b[39;49m\u001b[43m[\u001b[49m\u001b[43mi\u001b[49m\u001b[43m]\u001b[49m\u001b[43m,\u001b[49m\u001b[43m \u001b[49m\u001b[43mdefinition\u001b[49m\u001b[43m,\u001b[49m\u001b[43m \u001b[49m\u001b[43mexample\u001b[49m\u001b[43m,\u001b[49m\u001b[43m \u001b[49m\u001b[43mfluency\u001b[49m\u001b[43m,\u001b[49m\u001b[43m \u001b[49m\u001b[43mvisited\u001b[49m\u001b[43m)\u001b[49m\u001b[43m)\u001b[49m\n\u001b[0;32m      8\u001b[0m     conn\u001b[38;5;241m.\u001b[39mcommit()\n",
      "\u001b[1;31mIntegrityError\u001b[0m: UNIQUE constraint failed: Words.word"
     ]
    }
   ],
   "source": [
    "# Insert Data\n",
    "for i in range(len(list)): \n",
    "\n",
    "    cursor.execute('''\n",
    "INSERT INTO Words (word, definition, example, fluency, visited)\n",
    "VALUES (?, ?, ?, ?, ?)\n",
    "''', (list[i], definition, example, fluency, visited))\n",
    "    conn.commit()"
   ]
  },
  {
   "cell_type": "code",
   "execution_count": 25,
   "metadata": {},
   "outputs": [
    {
     "name": "stdout",
     "output_type": "stream",
     "text": [
      "[(1, 'une', 'place holder', 'another place holder', 0, 1, '2025-03-05 19:23:20'), (2, ' il', 'place holder', 'another place holder', 0, 1, '2025-03-05 19:23:20'), (3, ' le', 'place holder', 'another place holder', 0, 1, '2025-03-05 19:23:20'), (4, ' la', 'place holder', 'another place holder', 0, 1, '2025-03-05 19:23:20'), (5, ' et', 'place holder', 'another place holder', 0, 1, '2025-03-05 19:23:20')]\n"
     ]
    }
   ],
   "source": [
    "# Read Data\n",
    "cursor.execute('SELECT * FROM Words')\n",
    "rows = cursor.fetchall()\n",
    "print(rows)\n",
    "\n",
    "conn.close()"
   ]
  },
  {
   "cell_type": "code",
   "execution_count": null,
   "metadata": {},
   "outputs": [
    {
     "name": "stdout",
     "output_type": "stream",
     "text": [
      "   id word    definition               example  fluency  visited  \\\n",
      "0   1  une  place holder  another place holder        0        1   \n",
      "1   2   il  place holder  another place holder        0        1   \n",
      "2   3   le  place holder  another place holder        0        1   \n",
      "3   4   la  place holder  another place holder        0        1   \n",
      "4   5   et  place holder  another place holder        0        1   \n",
      "\n",
      "            created_at  \n",
      "0  2025-03-05 19:23:20  \n",
      "1  2025-03-05 19:23:20  \n",
      "2  2025-03-05 19:23:20  \n",
      "3  2025-03-05 19:23:20  \n",
      "4  2025-03-05 19:23:20  \n"
     ]
    }
   ],
   "source": [
    "import pandas as pd\n",
    "# Reconnect\n",
    "conn = sqlite3.connect('Word_DB.sqlite')\n",
    "\n",
    "# Read data into DataFrame\n",
    "df = pd.read_sql('SELECT * FROM words', conn)\n",
    "print(df)\n",
    "\n",
    "conn.close()\n"
   ]
  }
 ],
 "metadata": {
  "kernelspec": {
   "display_name": "Python 3",
   "language": "python",
   "name": "python3"
  },
  "language_info": {
   "codemirror_mode": {
    "name": "ipython",
    "version": 3
   },
   "file_extension": ".py",
   "mimetype": "text/x-python",
   "name": "python",
   "nbconvert_exporter": "python",
   "pygments_lexer": "ipython3",
   "version": "3.11.9"
  }
 },
 "nbformat": 4,
 "nbformat_minor": 2
}
