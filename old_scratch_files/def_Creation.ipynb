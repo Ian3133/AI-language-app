{
 "cells": [
  {
   "cell_type": "code",
   "execution_count": 10,
   "metadata": {},
   "outputs": [
    {
     "data": {
      "text/plain": [
       "'Afgain just some code i want to keep for later all commented out as not import'"
      ]
     },
     "execution_count": 10,
     "metadata": {},
     "output_type": "execute_result"
    }
   ],
   "source": [
    "'''Afgain just some code i want to keep for later all commented out as not import'''\n",
    "\n",
    "# # Fuctions and imports\n",
    "# import sqlite3\n",
    "# import pandas as pd\n",
    "# from deep_translator import GoogleTranslator\n",
    "\n",
    "# # functions\n",
    "# def add_words(words, db):\n",
    "#     '''Adds the words with empty translations/(definitions) and examples fluency and visted set to 0'''\n",
    "#     with sqlite3.connect('Word_DB.sqlite') as conn:\n",
    "#         cursor = conn.cursor()\n",
    "\n",
    "#         definition = \"--\"\n",
    "#         example = \"--\"\n",
    "#         fluency = 0\n",
    "#         visited = 0\n",
    "\n",
    "#         # Bulk insert without locking the DB\n",
    "#         for word in words:\n",
    "#             #print(word)\n",
    "#             cursor.execute('''\n",
    "#             INSERT OR IGNORE INTO Words (word, definition, example, fluency, visited)\n",
    "#             VALUES (?, ?, ?, ?, ?)\n",
    "#             ''', (word, generate_def(word).lower(), example, fluency, visited))\n",
    "#         # Commit once at the end\n",
    "#         conn.commit()\n",
    "\n",
    "\n",
    "# def print_Words_db():\n",
    "#     conn = sqlite3.connect('Word_DB.sqlite')\n",
    "#     df = pd.read_sql('SELECT * FROM words', conn)\n",
    "#     print(df)\n",
    "#     conn.close()\n",
    "\n",
    "\n",
    "# def clear_Words_db():\n",
    "#     conn = sqlite3.connect(\"Word_DB.sqlite\")\n",
    "#     cursor = conn.cursor()\n",
    "#     cursor.execute(\"DELETE FROM words\")\n",
    "#     conn.commit()\n",
    "#     conn.close()\n",
    "\n",
    "# #google transalte definition/translation for each word\n",
    "# def generate_def(word): \n",
    "#     try:\n",
    "#         # Use Google Translator to translate from French to English\n",
    "#         translation = GoogleTranslator(source='fr', target='en').translate(word)\n",
    "#         return translation\n",
    "#     except Exception as e:\n",
    "#         return f\"Translation error: {e}\"\n",
    "\n",
    "\n",
    "# def generate_exp():\n",
    "#     return 0\n",
    "\n"
   ]
  },
  {
   "cell_type": "code",
   "execution_count": 2,
   "metadata": {},
   "outputs": [],
   "source": [
    "# # Copyed from ChatGPT output of top 250 french words --- will later automat -- below is attempts- anoything to deal with\n",
    "# French_250 = \"le, de, un, être, et, à, il, avoir, ne, je, son, que, se, qui, ce, dans, en, du, elle, au, vous, avec, pour, pas, sur, plus, me, faire, nous, comme, ou, mais, pouvoir, dire, aller, voir, leur, bien, où, sans, tout, homme, année, jour, même, prendre, aussi, quelque, mon, donner, temps, très, savoir, falloir, venir, mettre, autre, vouloir, déjà, trouver, personne, rendre, part, quelque, passer, peu, avant, parce, contre, place, grand, lui, notre, vie, encore, après, monde, petit, chose, maison, rien, tous, enfant, tenir, droit, travailler, maintenant, parler, pendant, comprendre, point, femme, dernier, devoir, main, arriver, certains, jeune, attendre, raison, heure, rester, appeler, après, longtemps, quelque, tête, porter, certain, père, vieux, nuit, ensemble, force, marcher, question, aimer, aider, répondre, heure, sembler, jouer, besoin, retrouver, chose, seul, perdre, cause, montrer, pays, moment, côté, certain, écrire, famille, groupe, commencer, souvenir, apprendre, partir, enfant, enfin, pouvoir, pied, voix, attendre, frère, minute, guerre, tomber, soleil, histoire, chercher, eau, matin, clair, suivre, libre, heureux, amour, route, semaine, mille, image, lettre, terre, ouvrir, papa, fille, possible, soleil, long, lieu, guerre, mourir, espoir, fenêtre, cœur, vent, dormir, ciel, salle, lumière, mur, marcher, forêt, ami, question, rue, chat, fermer, appel, route, pont, âge, ville, nombre, mur, hiver, peur, joie, ciel, saison, vide, corps, camp, feu, retour, face, île, été, pluie, hiver, mère, secret, nuit, animal, oiseau, ange, mer, dieu, silence, village, prison, bruit, fruit, vérité, ombre, pierre, enfant, étoile, jour, lune, roi, reine, pierre, soldat, neige, miroir, homme, femme, monde, rêve, plage, désert, arbre, chemin, eau, forêt, maison, nuit, rivière, secret, terre, vent, voyage, ange, bateau, ciel, couleur, diable, étoile, fleur, lumière, montagne, oiseau, ombre, prison, silence, soleil, tristesse, vérité, village, voix, amour, ciel, désert, étoile, fleur, forêt, lumière, mer, montagne, nuit, oiseau, pierre, rivière, soleil, terre, vent, voyage\"\n",
    "\n",
    "# #converting to list\n",
    "# words = French_250.split(\",\")\n",
    "\n",
    "# clear_Words_db()\n",
    "\n",
    "# add_words(words, 'Word_DB.sqlite')\n",
    "\n",
    "# print_Words_db()"
   ]
  },
  {
   "cell_type": "code",
   "execution_count": 3,
   "metadata": {},
   "outputs": [],
   "source": [
    "# # Generating the top X words\n",
    "# import ollama\n",
    "\n",
    "# client = ollama.Client()\n",
    "\n",
    "# model=\"deepseek-r1:8b\"  # this is too small run into erros often 8b and maybe 7b should be better\n",
    "# prompt = \"Output the frist 100 most common french words. ONLY return a list in this format: [word1, word2, word3, ...]. nothing else. do not add definitions or number the words. Just return a list of the most common top 100 french words. \"\n",
    "\n",
    "# response = client.generate(model=model, prompt=prompt).response"
   ]
  },
  {
   "cell_type": "code",
   "execution_count": 4,
   "metadata": {},
   "outputs": [],
   "source": [
    "# print(response)\n",
    "# # words = str(response).split(\"</think>\")[1].split('\"')[0] # removing the <thinking bit that tpyically comes up with it. does it always? what if not present? add conditional check?\n",
    "# # words = str(words[3:-1]).split(\",\")\n",
    "# # print(words)\n",
    "# # print(len(words))   "
   ]
  },
  {
   "cell_type": "code",
   "execution_count": 5,
   "metadata": {},
   "outputs": [],
   "source": [
    "# import sqlite3\n",
    "\n",
    "# # Connect to DB\n",
    "# with sqlite3.connect('Word_DB.sqlite') as conn:\n",
    "#     cursor = conn.cursor()\n",
    "\n",
    "#     definition = \"--\"\n",
    "#     example = \"--\"\n",
    "#     fluency = 0\n",
    "#     visited = 0\n",
    "\n",
    "#     # Bulk insert without locking the DB\n",
    "#     for word in words:\n",
    "#         print(word)\n",
    "#         cursor.execute('''\n",
    "#         INSERT OR IGNORE INTO Words (word, definition, example, fluency, visited)\n",
    "#         VALUES (?, ?, ?, ?, ?)\n",
    "#         ''', (word, definition, example, fluency, visited))\n",
    "\n",
    "#     # Commit once at the end\n",
    "#     conn.commit()\n",
    "\n",
    "# print(\"All words added successfully!\")\n"
   ]
  },
  {
   "cell_type": "code",
   "execution_count": 6,
   "metadata": {},
   "outputs": [],
   "source": [
    "# import pandas as pd\n",
    "# # Reconnect\n",
    "# conn = sqlite3.connect('Word_DB.sqlite')\n",
    "\n",
    "# # Read data into DataFrame\n",
    "# df = pd.read_sql('SELECT * FROM words', conn)\n",
    "# print(df)\n",
    "\n",
    "# conn.close()"
   ]
  },
  {
   "cell_type": "code",
   "execution_count": 7,
   "metadata": {},
   "outputs": [],
   "source": [
    "# # clear table?: \n",
    "\n",
    "# import sqlite3\n",
    "\n",
    "# # Connect to the database file\n",
    "# conn = sqlite3.connect(\"Word_DB.sqlite\")\n",
    "# cursor = conn.cursor()\n",
    "\n",
    "# # Delete all rows from a table\n",
    "# cursor.execute(\"DELETE FROM words\")\n",
    "# conn.commit()\n",
    "\n",
    "# print(\"All rows deleted successfully.\")\n",
    "\n",
    "# # Close the connection\n",
    "# conn.close()"
   ]
  },
  {
   "cell_type": "code",
   "execution_count": 8,
   "metadata": {},
   "outputs": [],
   "source": [
    "# import asyncio\n",
    "\n",
    "# import ollama\n",
    "\n",
    "\n",
    "# async def main():\n",
    "#   client = ollama.AsyncClient()\n",
    "#   response = await client.generate(model=model, prompt=prompt)\n",
    "#   print(response['response'])\n",
    "\n",
    "\n",
    "# if __name__ == '__main__':\n",
    "#   try:\n",
    "#         if asyncio.get_event_loop().is_running():\n",
    "#             asyncio.create_task(main())  # Use create_task in running loops\n",
    "#         else:\n",
    "#             asyncio.run(main())\n",
    "#   except KeyboardInterrupt:\n",
    "#         print('\\nGoodbye!')"
   ]
  },
  {
   "cell_type": "code",
   "execution_count": 9,
   "metadata": {},
   "outputs": [],
   "source": [
    "# from ollama import generate\n",
    "\n",
    "# response = generate('deepseek-r1:8b', 'Give me a fun fact')\n",
    "# print(response['response'])"
   ]
  }
 ],
 "metadata": {
  "kernelspec": {
   "display_name": "Python 3",
   "language": "python",
   "name": "python3"
  },
  "language_info": {
   "codemirror_mode": {
    "name": "ipython",
    "version": 3
   },
   "file_extension": ".py",
   "mimetype": "text/x-python",
   "name": "python",
   "nbconvert_exporter": "python",
   "pygments_lexer": "ipython3",
   "version": "3.11.9"
  }
 },
 "nbformat": 4,
 "nbformat_minor": 2
}
