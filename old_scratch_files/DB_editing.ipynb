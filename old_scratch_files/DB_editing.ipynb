{
 "cells": [
  {
   "cell_type": "code",
   "execution_count": null,
   "metadata": {},
   "outputs": [],
   "source": [
    "'''Below is just some code i played around with and want to keep for coming back to later'''\n",
    "    \n",
    "# import sqlite3\n",
    "\n",
    "# # Connect to the database file in the same folder\n",
    "# conn = sqlite3.connect('Word_DB.sqlite')\n",
    "# cursor = conn.cursor()\n",
    "\n",
    "# # Create Table (if you need)\n",
    "# cursor.execute('''\n",
    "# CREATE TABLE IF NOT EXISTS Words (\n",
    "#     id INTEGER PRIMARY KEY,\n",
    "#     word TEXT NOT NULL UNIQUE,\n",
    "#     definition TEXT,\n",
    "#     example TEXT,\n",
    "#     fluency INTEGER DEFAULT 0,\n",
    "#     visited INTEGER DEFAULT 0,  -- 0 = False, 1 = True\n",
    "#     created_at TIMESTAMP DEFAULT CURRENT_TIMESTAMP\n",
    "# );\n",
    "# ''')\n",
    "\n",
    "# # example of output of french words AI could output: only 5\n",
    "# list = '[une, il, le, la, et]'[1:-1].split(\",\")\n",
    "# definition = \"place holder\"\n",
    "# example = \"another place holder\"\n",
    "# fluency = 0 \n",
    "# visited = 1 \n",
    "\n",
    "\n",
    "# def create_def():\n",
    "#     return 0 \n",
    "\n",
    "# def create_example():\n",
    "#     return 0\n",
    "\n"
   ]
  },
  {
   "cell_type": "code",
   "execution_count": 2,
   "metadata": {},
   "outputs": [],
   "source": [
    "# # Insert Data\n",
    "# for i in range(len(list)): \n",
    "\n",
    "#     cursor.execute('''\n",
    "# INSERT INTO Words (word, definition, example, fluency, visited)\n",
    "# VALUES (?, ?, ?, ?, ?)\n",
    "# ''', (list[i], definition, example, fluency, visited))\n",
    "#     conn.commit()"
   ]
  },
  {
   "cell_type": "code",
   "execution_count": 3,
   "metadata": {},
   "outputs": [],
   "source": [
    "# # Read Data\n",
    "# cursor.execute('SELECT * FROM Words')\n",
    "# rows = cursor.fetchall()\n",
    "# print(rows)\n",
    "\n",
    "# conn.close()"
   ]
  },
  {
   "cell_type": "code",
   "execution_count": 4,
   "metadata": {},
   "outputs": [],
   "source": [
    "# import pandas as pd\n",
    "# # Reconnect\n",
    "# conn = sqlite3.connect('Word_DB.sqlite')\n",
    "\n",
    "# # Read data into DataFrame\n",
    "# df = pd.read_sql('SELECT * FROM words', conn)\n",
    "# print(df)\n",
    "\n",
    "# conn.close()\n"
   ]
  }
 ],
 "metadata": {
  "kernelspec": {
   "display_name": "Python 3",
   "language": "python",
   "name": "python3"
  },
  "language_info": {
   "codemirror_mode": {
    "name": "ipython",
    "version": 3
   },
   "file_extension": ".py",
   "mimetype": "text/x-python",
   "name": "python",
   "nbconvert_exporter": "python",
   "pygments_lexer": "ipython3",
   "version": "3.11.9"
  }
 },
 "nbformat": 4,
 "nbformat_minor": 2
}
