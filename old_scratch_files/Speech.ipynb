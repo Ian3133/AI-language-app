{
 "cells": [
  {
   "cell_type": "code",
   "execution_count": 5,
   "metadata": {},
   "outputs": [
    {
     "data": {
      "text/plain": [
       "'Again again just wanted to keep code here is not important for the asignment'"
      ]
     },
     "execution_count": 5,
     "metadata": {},
     "output_type": "execute_result"
    }
   ],
   "source": [
    "'''Again again just wanted to keep code here is not important for the asignment'''\n",
    "#from gtts import gTTS\n",
    "# import playsound\n",
    "# import os\n",
    "\n",
    "# def create_pronunciation(sentence): \n",
    "#     '''Creating the specifc pronunication for the word or sentence all are saved under their name in the pronucations folder\n",
    "#     - can change to just making the call each time (ex create, pronuncance, then delete on click each time)'''\n",
    "#     language = \"fr\"  # set to french\n",
    "#     # Generate audio with gTTS\n",
    "#     tts = gTTS(text=sentence, lang=language, slow=False)\n",
    "#     filename = \"Pronunciations/\"+sentence+\".mp3\"\n",
    "#     tts.save(filename)\n",
    "\n",
    "\n"
   ]
  },
  {
   "cell_type": "code",
   "execution_count": 2,
   "metadata": {},
   "outputs": [],
   "source": [
    "# import os\n",
    "# import pygame\n",
    "\n",
    "# def play_mp3(sentence):\n",
    "#     mp3_path = f\"Pronunciations\\ {sentence}.mp3\"\n",
    "\n",
    "#     if not os.path.exists(mp3_path):  \n",
    "#        print(\"MP3 file not found.\") \n",
    "#        return\n",
    "\n",
    "    \n",
    "#     pygame.mixer.init()\n",
    "#     pygame.mixer.music.load(f\"Pronunciations\\ {sentence}.mp3\")\n",
    "#     pygame.mixer.music.play()\n",
    "    \n",
    "#     print(f\"Playing: {sentence}\")\n",
    "\n",
    "#     # this might be required later so i'll keep it open like this\n",
    "#     while pygame.mixer.music.get_busy():  # Keep script running while music plays\n",
    "#         continue\n",
    "#     else:\n",
    "#         pygame.mixer.quit()  # closes it so less of a problem for other functions\n",
    "\n",
    "# # Example usage:\n",
    "# if __name__ == \"__main__\":\n",
    "#     play_mp3(\"ami\")\n",
    "\n",
    "    \n"
   ]
  },
  {
   "cell_type": "code",
   "execution_count": 3,
   "metadata": {},
   "outputs": [],
   "source": [
    "# def clear_pronunciations_folder():\n",
    "#     folder_path =  \"Pronunciations\"\n",
    "\n",
    "#     # just to stop pygame if still running else error\n",
    "#     pygame.mixer.music.stop()  \n",
    "#     pygame.mixer.quit() \n",
    "    \n",
    "\n",
    "#     deleted_files = 0\n",
    "#     for file in os.listdir(folder_path):\n",
    "#         if file.endswith(\".mp3\"):\n",
    "#             file_path = os.path.join(folder_path, file)\n",
    "#             os.remove(file_path)\n",
    "#             deleted_files += 1\n",
    "#             print(f\"Deleted: {file}\")\n",
    "\n",
    "#     if deleted_files == 0:\n",
    "#         print(\"all files deleted MP3 \")\n",
    "#     else:\n",
    "#         print(f\"Deleted {deleted_files} MP3 file(s).\")\n",
    "\n",
    "# # Example usage:\n",
    "# if __name__ == \"__main__\":\n",
    "#     clear_pronunciations_folder()"
   ]
  },
  {
   "cell_type": "code",
   "execution_count": 4,
   "metadata": {},
   "outputs": [],
   "source": [
    "# import sqlite3\n",
    "\n",
    "# def create_p_for_all(db_path):\n",
    "#     \"\"\"Fetch and print all words under the 'word' category from the SQLite database.\"\"\"\n",
    "#     db_path = \"Word_DB.sqlite\"\n",
    "#     # Connect to the database\n",
    "#     conn = sqlite3.connect(db_path)\n",
    "#     cursor = conn.cursor()\n",
    "\n",
    "#     # Query to select all words\n",
    "#     query = \"SELECT word FROM words\"  # Adjust table name if different\n",
    "#     cursor.execute(query)\n",
    "\n",
    "#     # Fetch and print each word\n",
    "#     words = cursor.fetchall()\n",
    "#     for word in words:\n",
    "#         #print(word[0])  # Extract string from tuple\n",
    "#         create_pronunciation(word[0], )\n",
    "\n",
    "\n",
    "#     # Close the connection\n",
    "#     conn.close()\n",
    "\n",
    "# # Example usage:\n",
    "# if __name__ == \"__main__\":\n",
    "#     create_p_for_all()  # Replace with the actual DB path\n",
    "\n"
   ]
  }
 ],
 "metadata": {
  "kernelspec": {
   "display_name": "Python 3",
   "language": "python",
   "name": "python3"
  },
  "language_info": {
   "codemirror_mode": {
    "name": "ipython",
    "version": 3
   },
   "file_extension": ".py",
   "mimetype": "text/x-python",
   "name": "python",
   "nbconvert_exporter": "python",
   "pygments_lexer": "ipython3",
   "version": "3.11.9"
  }
 },
 "nbformat": 4,
 "nbformat_minor": 2
}
