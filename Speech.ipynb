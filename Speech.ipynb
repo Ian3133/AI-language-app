{
 "cells": [
  {
   "cell_type": "code",
   "execution_count": 14,
   "metadata": {},
   "outputs": [],
   "source": [
    "from gtts import gTTS\n",
    "import playsound\n",
    "import os\n",
    "\n",
    "def pronounce(sentence, language=\"auto\"):\n",
    "    # Detect language automatically if set to \"auto\"\n",
    "    if language == \"auto\":\n",
    "        if any(word in sentence.lower() for word in [\"je\", \"pas\", \"et\", \"le\", \"est\"]):\n",
    "            language = \"fr\"  # French\n",
    "        else:\n",
    "            language = \"en\"  # English\n",
    "        \n",
    "\n",
    "    # Generate audio with gTTS\n",
    "    tts = gTTS(text=sentence, lang=language, slow=False)\n",
    "    filename = \"Pronunciations/\"+sentence+\".mp3\"\n",
    "    tts.save(filename)\n",
    "\n",
    "    # Play the audio\n",
    "    #playsound.playsound(filename)\n",
    "    \n",
    "    # Clean up\n",
    "    #os.remove(filename)\n",
    "\n",
    "# Example Usage\n",
    "pronounce(\"Je ne sais pas\")  # French\n",
    "pronounce(\"I don't know\")    # English\n",
    "pronounce(\"et\")             # French\n"
   ]
  }
 ],
 "metadata": {
  "kernelspec": {
   "display_name": "Python 3",
   "language": "python",
   "name": "python3"
  },
  "language_info": {
   "codemirror_mode": {
    "name": "ipython",
    "version": 3
   },
   "file_extension": ".py",
   "mimetype": "text/x-python",
   "name": "python",
   "nbconvert_exporter": "python",
   "pygments_lexer": "ipython3",
   "version": "3.11.9"
  }
 },
 "nbformat": 4,
 "nbformat_minor": 2
}
