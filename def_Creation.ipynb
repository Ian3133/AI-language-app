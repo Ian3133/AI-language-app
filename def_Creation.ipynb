{
 "cells": [
  {
   "cell_type": "code",
   "execution_count": 19,
   "metadata": {},
   "outputs": [
    {
     "name": "stdout",
     "output_type": "stream",
     "text": [
      "Output from Deepseek 1.5b for a fun fact: \n",
      "\n",
      "\n",
      "[une, il, le, la, et]\n"
     ]
    }
   ],
   "source": [
    "import ollama\n",
    "\n",
    "client = ollama.Client()\n",
    "\n",
    "model=\"deepseek-r1:1.5b\"  # this is too small run into erros often 8b and maybe 7b should be better\n",
    "prompt = \"return to me 5 of the most common french words. return in a python list format such as: [word1, word2, word3, ...] with no definitions or anytihng besides the words\"\n",
    "\n",
    "response = client.generate(model=model, prompt=prompt).response\n",
    "\n",
    "print(\"Output from Deepseek 1.5b for a fun fact: \")\n",
    "print(str(response).split(\"</think>\")[1].split('\"')[0]) # removing the <thinking bit that tpyically comes up with it. does it always? what if not present? add conditional check?"
   ]
  },
  {
   "cell_type": "code",
   "execution_count": 11,
   "metadata": {},
   "outputs": [
    {
     "name": "stdout",
     "output_type": "stream",
     "text": [
      "<think>\n",
      "Okay, so I need to come up with a fun fact for someone who asked about something interesting or surprising. They mentioned to return just one sentence, so I have to make sure it's concise and impactful.\n",
      "\n",
      "First, what are the best-known fun facts? Maybe something related to history, science, or maybe even something unexpected like nature or technology. Let me think about different categories: animals, famous people, space, time, etc.\n",
      "\n",
      "Thinking about animals, how about something about animals that are known for their intelligence or something unconventional? The word \"quadruped\" comes to mind, which refers to four legs. But maybe I can make it more specific. For example, \"The quadruped is an animal with four limbs.\" That's a bit generic though.\n",
      "\n",
      "Alternatively, perhaps something about famous individuals. How about a quote from a notable figure? Like Einstein said something about the speed of light, but that might be too technical and not as surprising. Or maybe something like Galileo discovering Jupiter's moons, which is cool because it shows he was an astronomer. But I'm not sure if that would make someone stop in their tracks.\n",
      "\n",
      "Wait, what about something involving famous people? Maybe the name of a famous person and something they're known for. Oh, perhaps the quote from Einstein about relativity being a part of God's design. That seems more personal and could be quite engaging because it connects to something profound.\n",
      "\n",
      "Alternatively, think about animals again. Perhaps mention a specific animal that's known for something unusual or surprising. Like a dog known for jumping really high, but that might not be as impactful.\n",
      "\n",
      "Another angle: space exploration. Maybe something about the history of humans in space. But without more specifics, it's hard to make it interesting.\n",
      "\n",
      "Thinking about famous scientists, maybe something like Newton being famous for his laws of motion, but that seems too straightforward and maybe not as surprising as something else.\n",
      "\n",
      "Hmm, perhaps considering time itself. The concept of time is fundamental, so mentioning its importance in physics or philosophy could be interesting. Something like \"The measurement of time reveals the fabric of reality.\" That might make someone think about it more deeply and show its significance.\n",
      "\n",
      "Alternatively, a fun fact about animals related to their habitats. For example, the African wild dog's long legs are adapted for digging deep into sand, but that seems more of a biological curiosity than something inherently surprising.\n",
      "\n",
      "Wait, maybe something from mythology or a famous story. Like in \"The Elements,\" there's an element named \"quadruped\" which is a type of metalloid used in alloys, but I'm not sure if that's commonly known as such.\n",
      "\n",
      "Alternatively, think about animals with more limbs than others. The quadruped has four legs, and maybe mention other creatures like octopuses or jellyfish. But again, it might be too similar.\n",
      "\n",
      "Wait, another angle: the concept of time itself. How does our perception of time work? Maybe something about the relativity of time for different observers or how time is relative in space.\n",
      "\n",
      "But then I'm not sure if that's a fun fact or more technical than a casual one.\n",
      "\n",
      "Thinking back, maybe \"The quadruped\" was once an animal and now it's an insects. That could be interesting because it shows evolution through various forms but ends up being a type of insect, which is a common way things change over time.\n",
      "\n",
      "Yes, that might work. It's about the evolution from quadrupeds to insects, which sounds both fun and educational.\n",
      "\n",
      "So putting it together: The word \"quadruped\" refers to animals with four legs. Over millions of years, these creatures evolved into insects, as they moved and interacted more with their environment.\n",
      "</think>\n",
      "\n",
      "The word \"quadruped\" refers to animals with four legs. Over millions of years, these creatures evolved into insects, showcasing how evolution changes forms through movement and interaction with the environment.\n"
     ]
    }
   ],
   "source": [
    "import asyncio\n",
    "\n",
    "import ollama\n",
    "\n",
    "\n",
    "async def main():\n",
    "  client = ollama.AsyncClient()\n",
    "  response = await client.generate(model=model, prompt=prompt)\n",
    "  print(response['response'])\n",
    "\n",
    "\n",
    "if __name__ == '__main__':\n",
    "  try:\n",
    "        if asyncio.get_event_loop().is_running():\n",
    "            asyncio.create_task(main())  # Use create_task in running loops\n",
    "        else:\n",
    "            asyncio.run(main())\n",
    "  except KeyboardInterrupt:\n",
    "        print('\\nGoodbye!')"
   ]
  }
 ],
 "metadata": {
  "kernelspec": {
   "display_name": "Python 3",
   "language": "python",
   "name": "python3"
  },
  "language_info": {
   "codemirror_mode": {
    "name": "ipython",
    "version": 3
   },
   "file_extension": ".py",
   "mimetype": "text/x-python",
   "name": "python",
   "nbconvert_exporter": "python",
   "pygments_lexer": "ipython3",
   "version": "3.11.9"
  }
 },
 "nbformat": 4,
 "nbformat_minor": 2
}
